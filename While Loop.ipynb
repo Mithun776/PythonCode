{
 "cells": [
  {
   "cell_type": "raw",
   "id": "84cfbff5",
   "metadata": {},
   "source": [
    "# WHILE LOOP CONCEPTS"
   ]
  },
  {
   "cell_type": "code",
   "execution_count": 1,
   "id": "23e49333",
   "metadata": {},
   "outputs": [
    {
     "name": "stdout",
     "output_type": "stream",
     "text": [
      "1\n",
      "3\n",
      "5\n",
      "7\n",
      "9\n"
     ]
    }
   ],
   "source": [
    "# Print odd numbers between 0 and 10\n",
    "\n",
    "i=0\n",
    "while i<=10:\n",
    "    if i%2==1:\n",
    "        print(i)\n",
    "    i+=1"
   ]
  },
  {
   "cell_type": "code",
   "execution_count": 6,
   "id": "4a904166",
   "metadata": {},
   "outputs": [
    {
     "name": "stdout",
     "output_type": "stream",
     "text": [
      "0\n",
      "2\n",
      "6\n",
      "12\n",
      "20\n",
      "30\n",
      "Total Sum: 30\n"
     ]
    }
   ],
   "source": [
    "# Print sum of even numbers between o and 10\n",
    "\n",
    "i=0\n",
    "sum=0\n",
    "while i<=10:\n",
    "    if i%2==0:\n",
    "        sum+=i\n",
    "        print(sum)\n",
    "    i+=1\n",
    "print(\"Total Sum:\",sum)"
   ]
  },
  {
   "cell_type": "code",
   "execution_count": 11,
   "id": "bdbbbbf3",
   "metadata": {},
   "outputs": [
    {
     "name": "stdout",
     "output_type": "stream",
     "text": [
      "Single Valued Element is 12\n",
      "Single Valued Element is 23.4\n",
      "Single Valued Element is (3+2j)\n",
      "Multi Valued Element is [1, 2, 3]\n",
      "Multi Valued Element is myStr\n"
     ]
    }
   ],
   "source": [
    "# Find whether the elements in the lists are single or multi-valued\n",
    "\n",
    "a=[12,23.4,3+2j,[1,2,3],\"myStr\"]\n",
    "i=0\n",
    "while i<len(a):\n",
    "    if type(a[i]) in (int, float, bool, complex):\n",
    "        print(\"Single Valued Element is\",a[i])\n",
    "    else:\n",
    "        print(\"Multi Valued Element is\",a[i])\n",
    "    i+=1"
   ]
  },
  {
   "cell_type": "code",
   "execution_count": 13,
   "id": "c1e22676",
   "metadata": {},
   "outputs": [
    {
     "name": "stdout",
     "output_type": "stream",
     "text": [
      "Letter P at Index 0\n",
      "Letter t at Index 2\n",
      "Letter o at Index 4\n",
      "Letter P at Index 6\n",
      "Letter o at Index 8\n",
      "Letter r at Index 10\n",
      "Letter m at Index 12\n",
      "Letter i at Index 14\n",
      "Letter g at Index 16\n"
     ]
    }
   ],
   "source": [
    "# Print all even index characters in the given string\n",
    "\n",
    "b=\"PythonProgramming\"\n",
    "i=0\n",
    "while i<len(b):\n",
    "    if i%2==0:\n",
    "        print(\"Letter\",b[i], \"at Index\", i)\n",
    "    i+=1"
   ]
  },
  {
   "cell_type": "code",
   "execution_count": 15,
   "id": "fb4b8202",
   "metadata": {},
   "outputs": [
    {
     "name": "stdout",
     "output_type": "stream",
     "text": [
      "Numbers: 22440\n",
      "Alphabets: EWCS\n",
      "Special characters: @#\n"
     ]
    }
   ],
   "source": [
    "# Input: a='2EW24CS@40#'\n",
    "# Output: num=\"22440\" str=\"EWCS\" special=\"@#\"\n",
    "\n",
    "a=\"2EW24CS@40#\"\n",
    "i=0\n",
    "num=''\n",
    "str=''\n",
    "special=''\n",
    "while i<len(a):\n",
    "    if '0'<=a[i]<='9':\n",
    "        num+=a[i]\n",
    "    elif 'A'<=a[i]<='Z' or 'a'<=a[i]<='z':\n",
    "        str+=a[i]\n",
    "    else:\n",
    "        special+=a[i]\n",
    "    i+=1\n",
    "print(\"Numbers:\",num)\n",
    "print(\"Alphabets:\",str)\n",
    "print(\"Special characters:\",special)"
   ]
  },
  {
   "cell_type": "code",
   "execution_count": 17,
   "id": "e8a28cc2",
   "metadata": {},
   "outputs": [
    {
     "name": "stdout",
     "output_type": "stream",
     "text": [
      "Numbers: 5\n",
      "Alphabets: 4\n",
      "Special characters: 2\n"
     ]
    }
   ],
   "source": [
    "# For the above print the count of characters \n",
    "\n",
    "a=\"2EW24CS@40#\"\n",
    "i=0\n",
    "num_count=0\n",
    "str_count=0\n",
    "spec_count=0\n",
    "num=''\n",
    "str=''\n",
    "spec=''\n",
    "while i<len(a):\n",
    "    if '0'<=a[i]<='9':\n",
    "        num+=a[i]\n",
    "        num_count+=1\n",
    "    elif 'A'<=a[i]<='Z' or 'a'<=a[i]<='z':\n",
    "        str+=a[i]\n",
    "        str_count+=1\n",
    "    else:\n",
    "        spec+=a[i]\n",
    "        spec_count+=1\n",
    "    i+=1\n",
    "print(\"Numbers:\",num_count)\n",
    "print(\"Alphabets:\",str_count)\n",
    "print(\"Special characters:\",spec_count)"
   ]
  },
  {
   "cell_type": "code",
   "execution_count": 18,
   "id": "56937c90",
   "metadata": {},
   "outputs": [
    {
     "name": "stdout",
     "output_type": "stream",
     "text": [
      "Special characters: @#%^&*\n"
     ]
    }
   ],
   "source": [
    "# Extract only special characters present inside a given string\n",
    "\n",
    "a=\"2@Ew24CS40#%^&*\"\n",
    "i=0\n",
    "spec=''\n",
    "while i<len(a):\n",
    "    if not ('0'<=a[i]<='9' or 'A'<=a[i]<='Z' or 'a'<=a[i]<='z'):\n",
    "        spec+=a[i]\n",
    "    i+=1\n",
    "print(\"Special characters:\",spec)"
   ]
  },
  {
   "cell_type": "code",
   "execution_count": 22,
   "id": "0d69fefb",
   "metadata": {},
   "outputs": [
    {
     "name": "stdout",
     "output_type": "stream",
     "text": [
      "Number: 2\n"
     ]
    }
   ],
   "source": [
    "# Count the number of Vowels\n",
    "\n",
    "a=\"OK!Bye\"\n",
    "i=0\n",
    "count=0\n",
    "while i<len(a):\n",
    "    # if a[i] in ('a','e','i','o','u','A','E','I','O','U'):\n",
    "    if a[i] in 'AEIOUaeiou':\n",
    "        count+=1\n",
    "    i+=1\n",
    "print(\"Number:\",count)"
   ]
  },
  {
   "cell_type": "code",
   "execution_count": 23,
   "id": "726a5596",
   "metadata": {},
   "outputs": [
    {
     "name": "stdout",
     "output_type": "stream",
     "text": [
      "34\n"
     ]
    }
   ],
   "source": [
    "# Input: [0,1,12,20,3,12,5,28,25]\n",
    "# Output: 34\n",
    "\n",
    "B=[0,1,12,20,3,12,5,28,25]\n",
    "i=0\n",
    "sum=0\n",
    "while i<len(B):\n",
    "    if B[i]%2==1:\n",
    "        sum+=B[i]\n",
    "    i=i+1\n",
    "print(sum)"
   ]
  },
  {
   "cell_type": "code",
   "execution_count": 25,
   "id": "6ea208ee",
   "metadata": {},
   "outputs": [
    {
     "name": "stdout",
     "output_type": "stream",
     "text": [
      "['Hi', 'Python']\n"
     ]
    }
   ],
   "source": [
    "# Input: ['Hi','hello','bye','Python','sql']\n",
    "# Output: ['Hi', 'Python']\n",
    "\n",
    "C=['Hi','hello','bye','Python','sql']\n",
    "out=[]\n",
    "i=0\n",
    "while i<len(C):\n",
    "    if len(C[i])%2==0:\n",
    "        out+=[C[i]]\n",
    "    i+=1\n",
    "print(out)"
   ]
  },
  {
   "cell_type": "code",
   "execution_count": 27,
   "id": "ace3f096",
   "metadata": {},
   "outputs": [
    {
     "name": "stdout",
     "output_type": "stream",
     "text": [
      "Roses_are_red\n"
     ]
    }
   ],
   "source": [
    "# Input: \"Roses are red\"\n",
    "# Output: \"Roses_are_red\"\n",
    "\n",
    "D=\"Roses are red\"\n",
    "m=''\n",
    "i=0\n",
    "while i<len(D):\n",
    "    if D[i]==' ':\n",
    "        m+=\"_\"\n",
    "    else:\n",
    "        m+=D[i]\n",
    "    i+=1\n",
    "print(m)"
   ]
  },
  {
   "cell_type": "code",
   "execution_count": 28,
   "id": "5b77951d",
   "metadata": {},
   "outputs": [
    {
     "name": "stdout",
     "output_type": "stream",
     "text": [
      "[2, 6]\n"
     ]
    }
   ],
   "source": [
    "# Input: ['Hi','Python']\n",
    "# Output: [2,6]\n",
    "\n",
    "E=['Hi','Python']\n",
    "i=0\n",
    "count=[]\n",
    "while i<len(E):\n",
    "    count+=[len(E[i])]\n",
    "    i+=1\n",
    "print(count)"
   ]
  },
  {
   "cell_type": "code",
   "execution_count": 30,
   "id": "2de2053a",
   "metadata": {},
   "outputs": [
    {
     "name": "stdout",
     "output_type": "stream",
     "text": [
      "nohtyP\n"
     ]
    }
   ],
   "source": [
    "# Input: \"Python\"\n",
    "# Output: \"nohtyP\"\n",
    "\n",
    "F=\"Python\"\n",
    "i=0\n",
    "rev=''\n",
    "while i<len(F):\n",
    "    rev=F[i]+rev\n",
    "    i+=1\n",
    "print(rev)\n",
    "\n",
    "###### OR ######\n",
    "\n",
    "# F=\"Python\"\n",
    "# i=len(F)-1\n",
    "# rev=''\n",
    "# while i>=0:\n",
    "#     rev+=F[i]\n",
    "#     i-=1\n",
    "# print(rev)"
   ]
  },
  {
   "cell_type": "code",
   "execution_count": 29,
   "id": "c3eba171",
   "metadata": {},
   "outputs": [
    {
     "name": "stdout",
     "output_type": "stream",
     "text": [
      "{'H': 'Python', 'i': 'sql'}\n"
     ]
    }
   ],
   "source": [
    "# Input: D='Hi'\n",
    "#        E=['Python','sql']\n",
    "# Output: {'H': 'Python', 'i': 'sql'}\n",
    "\n",
    "D='Hi'\n",
    "E=['Python','sql']\n",
    "i=0\n",
    "d={}\n",
    "while i<len(D) and i<len(E):\n",
    "    d[D[i]]=E[i]\n",
    "    i+=1\n",
    "print(d)"
   ]
  },
  {
   "cell_type": "code",
   "execution_count": 32,
   "id": "611b54cc",
   "metadata": {},
   "outputs": [
    {
     "name": "stdout",
     "output_type": "stream",
     "text": [
      "{'Python': 6, 'sql': 3}\n"
     ]
    }
   ],
   "source": [
    "# Input: ['Python','sql']\n",
    "# Output: {'Python': 6, 'sql': 3}\n",
    "\n",
    "E=['Python','sql']\n",
    "i=0\n",
    "d={}\n",
    "while i<len(E):\n",
    "    d[E[i]]=len(E[i])\n",
    "    i+=1\n",
    "print(d)"
   ]
  },
  {
   "cell_type": "code",
   "execution_count": 33,
   "id": "d3e42c4c",
   "metadata": {},
   "outputs": [
    {
     "name": "stdout",
     "output_type": "stream",
     "text": [
      "Enter a number:17\n",
      "Prime\n"
     ]
    }
   ],
   "source": [
    "# Prime or not prime number\n",
    "\n",
    "n=int(input(\"Enter a number:\"))\n",
    "i=2\n",
    "if n<2:\n",
    "    print(\"Not Prime\")\n",
    "while i<n:\n",
    "    if n%i==0:\n",
    "        print(\"Not Prime\")\n",
    "        break\n",
    "    i+=1\n",
    "else:\n",
    "    print(\"Prime\")"
   ]
  },
  {
   "cell_type": "code",
   "execution_count": 34,
   "id": "55d358a6",
   "metadata": {},
   "outputs": [
    {
     "name": "stdout",
     "output_type": "stream",
     "text": [
      "Enter a number:6\n",
      "Perfect Number\n"
     ]
    }
   ],
   "source": [
    "# Perfect or not perfect\n",
    "\n",
    "num=int(input(\"Enter a number:\"))\n",
    "i=1\n",
    "sum=0\n",
    "while i<num:\n",
    "    if num%i==0:\n",
    "        sum+=i\n",
    "    i+=1\n",
    "if sum==num:\n",
    "    print(\"Perfect Number\")\n",
    "else:\n",
    "    print(\"Not a perfect number\")"
   ]
  },
  {
   "cell_type": "code",
   "execution_count": null,
   "id": "7d678c21",
   "metadata": {},
   "outputs": [],
   "source": []
  }
 ],
 "metadata": {
  "kernelspec": {
   "display_name": "Python 3 (ipykernel)",
   "language": "python",
   "name": "python3"
  },
  "language_info": {
   "codemirror_mode": {
    "name": "ipython",
    "version": 3
   },
   "file_extension": ".py",
   "mimetype": "text/x-python",
   "name": "python",
   "nbconvert_exporter": "python",
   "pygments_lexer": "ipython3",
   "version": "3.11.4"
  }
 },
 "nbformat": 4,
 "nbformat_minor": 5
}
