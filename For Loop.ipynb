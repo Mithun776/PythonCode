{
 "cells": [
  {
   "cell_type": "raw",
   "id": "7f34c1e0",
   "metadata": {},
   "source": [
    "# FOR LOOP CONCEPTS"
   ]
  },
  {
   "cell_type": "code",
   "execution_count": 3,
   "id": "7b8944c8",
   "metadata": {},
   "outputs": [
    {
     "name": "stdout",
     "output_type": "stream",
     "text": [
      "2\n",
      "4\n",
      "6\n",
      "8\n",
      "10\n"
     ]
    }
   ],
   "source": [
    "# Print even numbers without conditions\n",
    "for i in range(2,11,2):\n",
    "    print(i)"
   ]
  },
  {
   "cell_type": "code",
   "execution_count": 6,
   "id": "35b04ce6",
   "metadata": {},
   "outputs": [
    {
     "name": "stdout",
     "output_type": "stream",
     "text": [
      "10\n",
      "8\n",
      "6\n",
      "4\n",
      "2\n"
     ]
    }
   ],
   "source": [
    "# Print even numbers in reverse\n",
    "for i in range(10,1,-2):\n",
    "    print(i)"
   ]
  },
  {
   "cell_type": "code",
   "execution_count": 9,
   "id": "99e0df01",
   "metadata": {},
   "outputs": [
    {
     "name": "stdout",
     "output_type": "stream",
     "text": [
      "10\n",
      "8\n",
      "6\n",
      "4\n",
      "2\n"
     ]
    }
   ],
   "source": [
    "# Print reverse of even numbers in form of LIST\n",
    "for i in list(range(10,1,-2)):\n",
    "    print(i)"
   ]
  },
  {
   "cell_type": "code",
   "execution_count": 12,
   "id": "b18a3485",
   "metadata": {},
   "outputs": [
    {
     "name": "stdout",
     "output_type": "stream",
     "text": [
      "[6, 3]\n"
     ]
    }
   ],
   "source": [
    "# Input: d=['Python','SQL']\n",
    "# Output: z=[6,3]\n",
    "\n",
    "d=['Python','SQL']\n",
    "z=[]\n",
    "for i in d:\n",
    "    count=0\n",
    "    for j in i:\n",
    "        count+=1\n",
    "    z+=[count]\n",
    "print(z)"
   ]
  },
  {
   "cell_type": "code",
   "execution_count": 13,
   "id": "642b6912",
   "metadata": {},
   "outputs": [
    {
     "name": "stdout",
     "output_type": "stream",
     "text": [
      "[2, 1]\n"
     ]
    }
   ],
   "source": [
    "# Input: d=['Hello','Hi']\n",
    "# Output: z=[2,1]    --- Logic count of vowels\n",
    "\n",
    "d=['Hello','Hi']\n",
    "z=[]\n",
    "for i in d:\n",
    "    count=0\n",
    "    for j in i:\n",
    "        if j in 'AEIOUaeiou':\n",
    "            count+=1\n",
    "    z+=[count]\n",
    "print(z)"
   ]
  },
  {
   "cell_type": "code",
   "execution_count": 19,
   "id": "b4afcaa0",
   "metadata": {},
   "outputs": [
    {
     "name": "stdout",
     "output_type": "stream",
     "text": [
      "[3, 4]\n"
     ]
    }
   ],
   "source": [
    "# Input: d=['Python','Workshop']\n",
    "# Output: z=[3,4]   --- Even character index count\n",
    "\n",
    "d=['Python','Workshop']\n",
    "z=[]\n",
    "for i in d:\n",
    "    count=0\n",
    "    for j in range(len(i)):\n",
    "        if j%2==0:\n",
    "            count+=1\n",
    "    z+=[count]\n",
    "print(z)"
   ]
  },
  {
   "cell_type": "code",
   "execution_count": 24,
   "id": "d9d0cae7",
   "metadata": {},
   "outputs": [
    {
     "name": "stdout",
     "output_type": "stream",
     "text": [
      "a2b2c3\n"
     ]
    }
   ],
   "source": [
    "# Input: d='aabbccc'\n",
    "# Output: z='a2b2c3'\n",
    "\n",
    "d='aabbccc'\n",
    "z=''\n",
    "for i in d:\n",
    "    if i not in z:\n",
    "        count=0\n",
    "        for j in d:\n",
    "            if i==j:\n",
    "                count+=1\n",
    "        z+=i+str(count)\n",
    "print(z)"
   ]
  },
  {
   "cell_type": "code",
   "execution_count": 30,
   "id": "b0997a3c",
   "metadata": {},
   "outputs": [
    {
     "name": "stdout",
     "output_type": "stream",
     "text": [
      "abc234\n"
     ]
    }
   ],
   "source": [
    "# Input: d='aabbbcccc'\n",
    "# Output: z='abc234'\n",
    "\n",
    "d='aabbbcccc'\n",
    "z=''\n",
    "x=''\n",
    "y=''\n",
    "for i in d:\n",
    "    if i not in z:\n",
    "        count=0\n",
    "        for j in d:\n",
    "            if i==j:\n",
    "                count+=1\n",
    "        z+=i\n",
    "        x+=str(count)\n",
    "y+=z+x\n",
    "print(y)"
   ]
  }
 ],
 "metadata": {
  "kernelspec": {
   "display_name": "Python 3 (ipykernel)",
   "language": "python",
   "name": "python3"
  },
  "language_info": {
   "codemirror_mode": {
    "name": "ipython",
    "version": 3
   },
   "file_extension": ".py",
   "mimetype": "text/x-python",
   "name": "python",
   "nbconvert_exporter": "python",
   "pygments_lexer": "ipython3",
   "version": "3.11.4"
  }
 },
 "nbformat": 4,
 "nbformat_minor": 5
}
